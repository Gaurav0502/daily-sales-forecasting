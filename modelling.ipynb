{
 "cells": [
  {
   "cell_type": "code",
   "execution_count": 6,
   "metadata": {},
   "outputs": [],
   "source": [
    "# for basic data manipulations\n",
    "import pandas as pd\n",
    "import numpy as np\n",
    "\n",
    "# for handling file paths\n",
    "import os\n",
    "\n",
    "# for getting clustered data\n",
    "from cluster import get_daily_sales\n",
    "\n",
    "# for time series preprocessing\n",
    "from scipy.signal import savgol_filter\n",
    "\n",
    "# for suppressing warnings\n",
    "import warnings \n",
    "warnings.filterwarnings('ignore')\n"
   ]
  },
  {
   "cell_type": "code",
   "execution_count": 7,
   "metadata": {},
   "outputs": [],
   "source": [
    "def add_cluster_idx(df, idx):\n",
    "    df[\"cluster_id\"] = f\"cluster_{idx}\"\n",
    "    return df"
   ]
  },
  {
   "cell_type": "code",
   "execution_count": 8,
   "metadata": {},
   "outputs": [],
   "source": [
    "sales = list(map(lambda x: get_daily_sales(x).reset_index(), [1, 5, 7]))\n",
    "sales_ = list(map(add_cluster_idx, sales, [1, 5, 7]))\n",
    "data = pd.concat(sales_).reset_index(drop = True)"
   ]
  },
  {
   "cell_type": "code",
   "execution_count": 9,
   "metadata": {},
   "outputs": [],
   "source": [
    "data['TotalSales'] = savgol_filter(data['TotalSales'], window_length=9, polyorder=2)\n",
    "\n",
    "data[\"date\"] = pd.to_datetime(data[\"date\"])\n",
    "data[\"time_idx\"] = (data[\"date\"] - data[\"date\"].min()).dt.days\n",
    "\n",
    "data[\"month\"] = data[\"date\"].dt.month.astype(str).astype(\"category\")\n",
    "data[\"year\"] = data[\"date\"].dt.year.astype(str).astype(\"category\")\n",
    "data[\"day_of_week\"] = data[\"date\"].dt.dayofweek.astype(str).astype(\"category\")\n",
    "data[\"day_of_month\"] = data[\"date\"].dt.day.astype(str).astype(\"category\")\n",
    "data[\"is_weekend\"] = (data[\"date\"].dt.dayofweek >= 5).astype(int)"
   ]
  },
  {
   "cell_type": "code",
   "execution_count": 10,
   "metadata": {},
   "outputs": [],
   "source": [
    "data['date'] = pd.to_datetime(data['date'])\n",
    "data = data.sort_values(['cluster_id', 'date'])\n",
    "\n",
    "# statistics by group_idx\n",
    "def create_features(group):\n",
    "    # 1st and 7th lag\n",
    "    group['lag_1'] = group['TotalSales'].shift(1)\n",
    "    group['lag_7'] = group['TotalSales'].shift(7)\n",
    "    \n",
    "    # rolling mean and sd\n",
    "    for window in [3, 7, 14, 30]:\n",
    "        group[f'rolling_mean_{window}'] = group['TotalSales'].rolling(window).mean().bfill()\n",
    "        group[f'rolling_std_{window}'] = group['TotalSales'].rolling(window).std().bfill()\n",
    "    \n",
    "    # exponential moving average\n",
    "    group['ema_7'] = group['TotalSales'].ewm(span=7, adjust=False).mean()\n",
    "    \n",
    "    # first order difference\n",
    "    group['daily_diff'] = group['TotalSales'].diff(1)\n",
    "    \n",
    "    return group\n",
    "\n",
    "data = data.groupby('cluster_id', group_keys=False).apply(create_features)\n",
    "data = data.dropna()"
   ]
  },
  {
   "cell_type": "code",
   "execution_count": 13,
   "metadata": {},
   "outputs": [],
   "source": [
    "data = data.sort_values(by = \"time_idx\").reset_index()"
   ]
  },
  {
   "cell_type": "code",
   "execution_count": 15,
   "metadata": {},
   "outputs": [
    {
     "name": "stdout",
     "output_type": "stream",
     "text": [
      "<class 'pandas.core.frame.DataFrame'>\n",
      "RangeIndex: 1791 entries, 0 to 1790\n",
      "Data columns (total 22 columns):\n",
      " #   Column           Non-Null Count  Dtype         \n",
      "---  ------           --------------  -----         \n",
      " 0   index            1791 non-null   int64         \n",
      " 1   date             1791 non-null   datetime64[ns]\n",
      " 2   TotalSales       1791 non-null   float64       \n",
      " 3   cluster_id       1791 non-null   object        \n",
      " 4   time_idx         1791 non-null   int64         \n",
      " 5   month            1791 non-null   category      \n",
      " 6   year             1791 non-null   category      \n",
      " 7   day_of_week      1791 non-null   category      \n",
      " 8   day_of_month     1791 non-null   category      \n",
      " 9   is_weekend       1791 non-null   int64         \n",
      " 10  lag_1            1791 non-null   float64       \n",
      " 11  lag_7            1791 non-null   float64       \n",
      " 12  rolling_mean_3   1791 non-null   float64       \n",
      " 13  rolling_std_3    1791 non-null   float64       \n",
      " 14  rolling_mean_7   1791 non-null   float64       \n",
      " 15  rolling_std_7    1791 non-null   float64       \n",
      " 16  rolling_mean_14  1791 non-null   float64       \n",
      " 17  rolling_std_14   1791 non-null   float64       \n",
      " 18  rolling_mean_30  1791 non-null   float64       \n",
      " 19  rolling_std_30   1791 non-null   float64       \n",
      " 20  ema_7            1791 non-null   float64       \n",
      " 21  daily_diff       1791 non-null   float64       \n",
      "dtypes: category(4), datetime64[ns](1), float64(13), int64(3), object(1)\n",
      "memory usage: 261.1+ KB\n"
     ]
    }
   ],
   "source": [
    "data.info()"
   ]
  }
 ],
 "metadata": {
  "kernelspec": {
   "display_name": "Python 3",
   "language": "python",
   "name": "python3"
  },
  "language_info": {
   "codemirror_mode": {
    "name": "ipython",
    "version": 3
   },
   "file_extension": ".py",
   "mimetype": "text/x-python",
   "name": "python",
   "nbconvert_exporter": "python",
   "pygments_lexer": "ipython3",
   "version": "3.12.6"
  }
 },
 "nbformat": 4,
 "nbformat_minor": 2
}
